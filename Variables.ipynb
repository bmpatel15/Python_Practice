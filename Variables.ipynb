{
 "cells": [
  {
   "cell_type": "code",
   "execution_count": 3,
   "id": "513613e7-bf17-4cc4-9c29-460f9b001dc0",
   "metadata": {},
   "outputs": [],
   "source": [
    "can=\"soda\""
   ]
  },
  {
   "cell_type": "code",
   "execution_count": 4,
   "id": "75cefc87-c73b-44e4-8488-9b5974416c55",
   "metadata": {},
   "outputs": [
    {
     "data": {
      "text/plain": [
       "'soda'"
      ]
     },
     "execution_count": 4,
     "metadata": {},
     "output_type": "execute_result"
    }
   ],
   "source": [
    "can"
   ]
  },
  {
   "cell_type": "code",
   "execution_count": 5,
   "id": "9cf9c556-8736-4b5c-9d59-945369070ba0",
   "metadata": {},
   "outputs": [
    {
     "data": {
      "text/plain": [
       "'beans'"
      ]
     },
     "execution_count": 5,
     "metadata": {},
     "output_type": "execute_result"
    }
   ],
   "source": [
    "can=\"beans\"\n",
    "can"
   ]
  },
  {
   "cell_type": "code",
   "execution_count": 6,
   "id": "a610b79b-81a8-439a-ad6f-7a3cf3728d42",
   "metadata": {},
   "outputs": [
    {
     "name": "stdout",
     "output_type": "stream",
     "text": [
      "beans\n"
     ]
    }
   ],
   "source": [
    "print(can)"
   ]
  },
  {
   "cell_type": "code",
   "execution_count": 7,
   "id": "d9a6af38-a537-4276-bdf4-65fb9cc604be",
   "metadata": {},
   "outputs": [
    {
     "data": {
      "text/plain": [
       "str"
      ]
     },
     "execution_count": 7,
     "metadata": {},
     "output_type": "execute_result"
    }
   ],
   "source": [
    "type(can)"
   ]
  },
  {
   "cell_type": "code",
   "execution_count": 8,
   "id": "d96a95c6-5fc0-4f4d-9613-3f0cc80ed652",
   "metadata": {},
   "outputs": [
    {
     "data": {
      "text/plain": [
       "5"
      ]
     },
     "execution_count": 8,
     "metadata": {},
     "output_type": "execute_result"
    }
   ],
   "source": [
    "pizza=5\n",
    "pizza"
   ]
  },
  {
   "cell_type": "code",
   "execution_count": 9,
   "id": "e3aa2ea2-813e-4214-8739-b80788deecdb",
   "metadata": {},
   "outputs": [
    {
     "data": {
      "text/plain": [
       "int"
      ]
     },
     "execution_count": 9,
     "metadata": {},
     "output_type": "execute_result"
    }
   ],
   "source": [
    "type(pizza)"
   ]
  },
  {
   "cell_type": "code",
   "execution_count": 10,
   "id": "df141836-cae1-4396-9fd6-e1c2a55e45b3",
   "metadata": {},
   "outputs": [],
   "source": [
    "fries=2\n",
    "soda=1.50"
   ]
  },
  {
   "cell_type": "code",
   "execution_count": 11,
   "id": "9285a8ab-3d36-4255-9b7b-80cd56f37b7e",
   "metadata": {},
   "outputs": [
    {
     "name": "stdout",
     "output_type": "stream",
     "text": [
      "8.5\n"
     ]
    }
   ],
   "source": [
    "total=pizza + fries + soda\n",
    "print(total)"
   ]
  },
  {
   "cell_type": "code",
   "execution_count": 12,
   "id": "6fc3ec52-e765-404c-ac13-488b260a799a",
   "metadata": {},
   "outputs": [
    {
     "data": {
      "text/plain": [
       "float"
      ]
     },
     "execution_count": 12,
     "metadata": {},
     "output_type": "execute_result"
    }
   ],
   "source": [
    "type(total)"
   ]
  },
  {
   "cell_type": "code",
   "execution_count": 13,
   "id": "9a37927f-b497-4320-82ba-db6c8fcd08f7",
   "metadata": {},
   "outputs": [
    {
     "data": {
      "text/plain": [
       "False"
      ]
     },
     "execution_count": 13,
     "metadata": {},
     "output_type": "execute_result"
    }
   ],
   "source": [
    "total > 10"
   ]
  },
  {
   "cell_type": "code",
   "execution_count": 14,
   "id": "1909d97d-f257-4c37-9d5e-22975d53aa11",
   "metadata": {},
   "outputs": [
    {
     "data": {
      "text/plain": [
       "True"
      ]
     },
     "execution_count": 14,
     "metadata": {},
     "output_type": "execute_result"
    }
   ],
   "source": [
    "above_threshold = total > 5\n",
    "above_threshold"
   ]
  },
  {
   "cell_type": "code",
   "execution_count": 15,
   "id": "882c66c1-c4e5-4352-ac20-1765f1e18e34",
   "metadata": {},
   "outputs": [
    {
     "data": {
      "text/plain": [
       "'beans'"
      ]
     },
     "execution_count": 15,
     "metadata": {},
     "output_type": "execute_result"
    }
   ],
   "source": [
    "can"
   ]
  },
  {
   "cell_type": "code",
   "execution_count": 16,
   "id": "974027f6-55d4-40f5-8b29-8f4b1556a1d8",
   "metadata": {},
   "outputs": [
    {
     "data": {
      "text/plain": [
       "str"
      ]
     },
     "execution_count": 16,
     "metadata": {},
     "output_type": "execute_result"
    }
   ],
   "source": [
    "type(can)"
   ]
  },
  {
   "cell_type": "code",
   "execution_count": 17,
   "id": "64c7ae5f-00ab-4de5-9348-dc6a9a510afd",
   "metadata": {},
   "outputs": [
    {
     "data": {
      "text/plain": [
       "'candy'"
      ]
     },
     "execution_count": 17,
     "metadata": {},
     "output_type": "execute_result"
    }
   ],
   "source": [
    "foo = \"candy\"\n",
    "foo"
   ]
  },
  {
   "cell_type": "code",
   "execution_count": 18,
   "id": "cae58423-3392-476f-905c-2b44105a0c5d",
   "metadata": {},
   "outputs": [
    {
     "data": {
      "text/plain": [
       "'candy'"
      ]
     },
     "execution_count": 18,
     "metadata": {},
     "output_type": "execute_result"
    }
   ],
   "source": [
    "bar=foo\n",
    "bar"
   ]
  },
  {
   "cell_type": "code",
   "execution_count": 19,
   "id": "ad784afb-51a7-4ce7-aece-085e3d61de58",
   "metadata": {},
   "outputs": [
    {
     "data": {
      "text/plain": [
       "4613600288"
      ]
     },
     "execution_count": 19,
     "metadata": {},
     "output_type": "execute_result"
    }
   ],
   "source": [
    "id(foo)"
   ]
  },
  {
   "cell_type": "code",
   "execution_count": 20,
   "id": "9ebaa81f-1eb6-4bbe-8d55-4a466b930f99",
   "metadata": {},
   "outputs": [
    {
     "data": {
      "text/plain": [
       "4613600288"
      ]
     },
     "execution_count": 20,
     "metadata": {},
     "output_type": "execute_result"
    }
   ],
   "source": [
    "id(bar)"
   ]
  },
  {
   "cell_type": "code",
   "execution_count": 21,
   "id": "f19f19fb-47a0-47e8-b3e9-51d8b5d3e12f",
   "metadata": {},
   "outputs": [
    {
     "data": {
      "text/plain": [
       "'jalapeno'"
      ]
     },
     "execution_count": 21,
     "metadata": {},
     "output_type": "execute_result"
    }
   ],
   "source": [
    "bar = \"jalapeno\"\n",
    "bar"
   ]
  },
  {
   "cell_type": "code",
   "execution_count": 22,
   "id": "b5d20e89-a9f0-4eee-837d-fbf7b384edf0",
   "metadata": {},
   "outputs": [
    {
     "data": {
      "text/plain": [
       "4618149424"
      ]
     },
     "execution_count": 22,
     "metadata": {},
     "output_type": "execute_result"
    }
   ],
   "source": [
    "id(bar)"
   ]
  },
  {
   "cell_type": "code",
   "execution_count": 23,
   "id": "04cac9b3-46ef-4e53-b770-a7077e040c07",
   "metadata": {},
   "outputs": [
    {
     "data": {
      "text/plain": [
       "4613600288"
      ]
     },
     "execution_count": 23,
     "metadata": {},
     "output_type": "execute_result"
    }
   ],
   "source": [
    "id(foo)"
   ]
  },
  {
   "cell_type": "code",
   "execution_count": null,
   "id": "931585f4-93e1-4031-a247-dea69dee9c1d",
   "metadata": {},
   "outputs": [],
   "source": []
  }
 ],
 "metadata": {
  "kernelspec": {
   "display_name": "Python 3 (ipykernel)",
   "language": "python",
   "name": "python3"
  },
  "language_info": {
   "codemirror_mode": {
    "name": "ipython",
    "version": 3
   },
   "file_extension": ".py",
   "mimetype": "text/x-python",
   "name": "python",
   "nbconvert_exporter": "python",
   "pygments_lexer": "ipython3",
   "version": "3.13.2"
  }
 },
 "nbformat": 4,
 "nbformat_minor": 5
}
