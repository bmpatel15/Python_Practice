{
 "cells": [
  {
   "cell_type": "code",
   "execution_count": 1,
   "id": "c65c2740-3259-41c4-a945-4c303bf56f4c",
   "metadata": {},
   "outputs": [],
   "source": [
    "first = 'Bhavesh'\n",
    "last = 'Patel'"
   ]
  },
  {
   "cell_type": "code",
   "execution_count": 2,
   "id": "42de6bc3-fd83-4e14-8cc9-60ffb9da110d",
   "metadata": {},
   "outputs": [
    {
     "data": {
      "text/plain": [
       "str"
      ]
     },
     "execution_count": 2,
     "metadata": {},
     "output_type": "execute_result"
    }
   ],
   "source": [
    "type(first)"
   ]
  },
  {
   "cell_type": "code",
   "execution_count": 3,
   "id": "f1049bd9-1fc8-442d-92f3-e4011122ba40",
   "metadata": {},
   "outputs": [
    {
     "data": {
      "text/plain": [
       "'BhaveshPatel'"
      ]
     },
     "execution_count": 3,
     "metadata": {},
     "output_type": "execute_result"
    }
   ],
   "source": [
    "name = first + last\n",
    "name"
   ]
  },
  {
   "cell_type": "code",
   "execution_count": 4,
   "id": "d1b2b3fd-a77b-4af3-b68d-199a486261ba",
   "metadata": {},
   "outputs": [
    {
     "data": {
      "text/plain": [
       "'Bhavesh Patel'"
      ]
     },
     "execution_count": 4,
     "metadata": {},
     "output_type": "execute_result"
    }
   ],
   "source": [
    "name = f\"{first} {last}\"\n",
    "name"
   ]
  },
  {
   "cell_type": "code",
   "execution_count": 5,
   "id": "f9c932f4-4b1f-4778-916e-13bf425ea42a",
   "metadata": {},
   "outputs": [
    {
     "data": {
      "text/plain": [
       "'Bhavesh Patel is 43 years old'"
      ]
     },
     "execution_count": 5,
     "metadata": {},
     "output_type": "execute_result"
    }
   ],
   "source": [
    "age = 43\n",
    "\n",
    "info = f\"{first} {last} is {age} years old\"\n",
    "info"
   ]
  },
  {
   "cell_type": "code",
   "execution_count": 6,
   "id": "50e70e4f-9a8b-4c35-afae-15eaafc2c889",
   "metadata": {},
   "outputs": [
    {
     "data": {
      "text/plain": [
       "'B'"
      ]
     },
     "execution_count": 6,
     "metadata": {},
     "output_type": "execute_result"
    }
   ],
   "source": [
    "name[0]"
   ]
  },
  {
   "cell_type": "code",
   "execution_count": 8,
   "id": "4b177e70-6363-4c83-a862-af9dea6d5ed3",
   "metadata": {},
   "outputs": [
    {
     "data": {
      "text/plain": [
       "'Bhavesh'"
      ]
     },
     "execution_count": 8,
     "metadata": {},
     "output_type": "execute_result"
    }
   ],
   "source": [
    "name[0:7]"
   ]
  },
  {
   "cell_type": "code",
   "execution_count": 11,
   "id": "0733a28c-c277-4051-abd3-f879c5ff4d2d",
   "metadata": {},
   "outputs": [
    {
     "data": {
      "text/plain": [
       "'Patel'"
      ]
     },
     "execution_count": 11,
     "metadata": {},
     "output_type": "execute_result"
    }
   ],
   "source": [
    "name[8:13]"
   ]
  },
  {
   "cell_type": "code",
   "execution_count": 12,
   "id": "86687d07-64cc-41ee-ac65-20a8013e605d",
   "metadata": {},
   "outputs": [
    {
     "data": {
      "text/plain": [
       "'l'"
      ]
     },
     "execution_count": 12,
     "metadata": {},
     "output_type": "execute_result"
    }
   ],
   "source": [
    "name[-1]"
   ]
  },
  {
   "cell_type": "code",
   "execution_count": 13,
   "id": "2928dbd7-df24-45e3-ad86-ab395e3b86bc",
   "metadata": {},
   "outputs": [
    {
     "data": {
      "text/plain": [
       "13"
      ]
     },
     "execution_count": 13,
     "metadata": {},
     "output_type": "execute_result"
    }
   ],
   "source": [
    "len(name)"
   ]
  },
  {
   "cell_type": "code",
   "execution_count": 16,
   "id": "ddd5f1a6-21cd-4619-9e60-5ba420beba55",
   "metadata": {},
   "outputs": [
    {
     "data": {
      "text/plain": [
       "'Bhavesh\" \"Patel'"
      ]
     },
     "execution_count": 16,
     "metadata": {},
     "output_type": "execute_result"
    }
   ],
   "source": [
    "name = first + '\" \"' + last\n",
    "name"
   ]
  },
  {
   "cell_type": "code",
   "execution_count": 17,
   "id": "860b9198-3853-48d0-a01e-02faa5e17c15",
   "metadata": {},
   "outputs": [
    {
     "name": "stdout",
     "output_type": "stream",
     "text": [
      "\n",
      "Here are the ingrediants for a simple raman recepi\n",
      "Ingredients:\n",
      "1 pack of instant ramen noodles (any flavor)\n",
      "2 cups water\n",
      "1/2 teaspoon soy sauce (optional)\n",
      "1/2 teaspoon sesame oil (optional)\n",
      "1 egg (optional, for extra protein)\n",
      "1/4 cup green onions, chopped (optional)\n",
      "1/4 cup vegetables (spinach, mushrooms, or carrots - optional)\n",
      "1 teaspoon chili flakes or hot sauce (optional, for spice)\n",
      "\n"
     ]
    }
   ],
   "source": [
    "recepi = '''\n",
    "Here are the ingrediants for a simple raman recepi\n",
    "Ingredients:\n",
    "1 pack of instant ramen noodles (any flavor)\n",
    "2 cups water\n",
    "1/2 teaspoon soy sauce (optional)\n",
    "1/2 teaspoon sesame oil (optional)\n",
    "1 egg (optional, for extra protein)\n",
    "1/4 cup green onions, chopped (optional)\n",
    "1/4 cup vegetables (spinach, mushrooms, or carrots - optional)\n",
    "1 teaspoon chili flakes or hot sauce (optional, for spice)\n",
    "'''\n",
    "\n",
    "print(recepi)"
   ]
  },
  {
   "cell_type": "code",
   "execution_count": 20,
   "id": "4d6ebf14-dc2d-4f73-86c0-112cc0388ae0",
   "metadata": {},
   "outputs": [
    {
     "name": "stdout",
     "output_type": "stream",
     "text": [
      "\n",
      "Here are the ingrediants for a simple raman recepi\n",
      "Ingredients:\n",
      "1 pack of instant ramen noodles (any flavor)\n",
      "2 cups water\n",
      "1/2 teaspoon soy sauce (optional)\n",
      "1/2 teaspoon sesame oil (optional)\n",
      "1 egg (optional, for extra protein)\n",
      "1/4 cup green onions, chopped (optional)\n",
      "1/4 cup vegetables (spinach, mushrooms, or carrots - optional)\n",
      "1 teaspoon chili flakes or hot sauce (optional, for spice)\n",
      "\n"
     ]
    }
   ],
   "source": [
    "recepi.replace(\"Ingrediants:\", \"Ingrediant:\")\n",
    "print(recepi)"
   ]
  },
  {
   "cell_type": "code",
   "execution_count": 21,
   "id": "598eee56-2f13-4b05-88ac-77862a70085d",
   "metadata": {},
   "outputs": [
    {
     "data": {
      "text/plain": [
       "'patient was charged $100 for lab tests'"
      ]
     },
     "execution_count": 21,
     "metadata": {},
     "output_type": "execute_result"
    }
   ],
   "source": [
    "s = \"patient was charged $100 for lab tests\"\n",
    "s"
   ]
  },
  {
   "cell_type": "code",
   "execution_count": 22,
   "id": "f7423251-2dce-4fd4-bfca-be6a71196710",
   "metadata": {},
   "outputs": [
    {
     "data": {
      "text/plain": [
       "'patient was charged $10 for lab tests'"
      ]
     },
     "execution_count": 22,
     "metadata": {},
     "output_type": "execute_result"
    }
   ],
   "source": [
    "s.replace(\"$100\", \"$10\")"
   ]
  },
  {
   "cell_type": "code",
   "execution_count": 23,
   "id": "1232b497-ffa9-44ec-a9ff-62153fad6fa4",
   "metadata": {},
   "outputs": [
    {
     "data": {
      "text/plain": [
       "'patient was charged $100 for lab tests'"
      ]
     },
     "execution_count": 23,
     "metadata": {},
     "output_type": "execute_result"
    }
   ],
   "source": [
    "s"
   ]
  },
  {
   "cell_type": "code",
   "execution_count": 24,
   "id": "3d112943-e1c8-496b-9b02-59c8c7066f2b",
   "metadata": {},
   "outputs": [
    {
     "data": {
      "text/plain": [
       "-1"
      ]
     },
     "execution_count": 24,
     "metadata": {},
     "output_type": "execute_result"
    }
   ],
   "source": [
    "recepi.find(\"Ingrediants:\")"
   ]
  },
  {
   "cell_type": "code",
   "execution_count": 25,
   "id": "fc102cbb-3f26-453f-ad1b-573e76d08703",
   "metadata": {},
   "outputs": [
    {
     "name": "stdout",
     "output_type": "stream",
     "text": [
      "False\n"
     ]
    }
   ],
   "source": [
    "word = \"Python\"\n",
    "print(\"PyT\" in word)"
   ]
  }
 ],
 "metadata": {
  "kernelspec": {
   "display_name": "Python 3 (ipykernel)",
   "language": "python",
   "name": "python3"
  },
  "language_info": {
   "codemirror_mode": {
    "name": "ipython",
    "version": 3
   },
   "file_extension": ".py",
   "mimetype": "text/x-python",
   "name": "python",
   "nbconvert_exporter": "python",
   "pygments_lexer": "ipython3",
   "version": "3.13.2"
  }
 },
 "nbformat": 4,
 "nbformat_minor": 5
}
